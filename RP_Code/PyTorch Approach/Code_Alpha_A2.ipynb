{
 "cells": [
  {
   "cell_type": "markdown",
   "metadata": {},
   "source": [
    "## Deep Learning Fundamentals Assignment 2"
   ]
  },
  {
   "cell_type": "markdown",
   "metadata": {},
   "source": [
    "\n",
    "Training a Classifier\n",
    "=====================\n",
    "\n",
    "We will be defining neural networks, computing loss and updating the weights of the network.\n",
    "\n",
    "----------------\n",
    "Specifically for vision, PyTorch includes a package called\n",
    "``torchvision``, that has data loaders for common datasets such as\n",
    "Imagenet, CIFAR10, MNIST, etc. and data transformers for images, viz.,\n",
    "``torchvision.datasets`` and ``torch.utils.data.DataLoader``.\n",
    "\n",
    "You can also implement your own dataloader based on ``torch.utils.data.DataLoader``.\n",
    "\n",
    "This provides a huge convenience and avoids writing boilerplate code.\n",
    "\n",
    "We will use the CINIC-10 dataset.\n",
    "It has the classes: ‘airplane’, ‘automobile’, ‘bird’, ‘cat’, ‘deer’,\n",
    "‘dog’, ‘frog’, ‘horse’, ‘ship’, ‘truck’. The images in CINIC-10 are of\n",
    "size 3x32x32, i.e. 3-channel color images of 32x32 pixels in size.\n",
    "\n",
    "\n",
    "\n",
    "Training an image classifier\n",
    "----------------------------\n",
    "\n",
    "We will do the following steps in order:\n",
    "\n",
    "1. Load and normalizing the CIFAR10 training and test datasets using\n",
    "   ``torchvision``\n",
    "2. Define a Convolutional Neural Network\n",
    "3. Define a loss function\n",
    "4. Train the network on the training data\n",
    "5. Test the network on the test data\n",
    "\n",
    "1. Loading and normalizing CIFAR10\n",
    "^^^^^^^^^^^^^^^^^^^^^^^^^^^^^^^^^^\n",
    "\n",
    "Using ``torchvision``, it’s extremely easy to load CINIC-10.\n",
    "\n"
   ]
  },
  {
   "cell_type": "markdown",
   "metadata": {},
   "source": [
    "### Importing Libraries"
   ]
  },
  {
   "cell_type": "code",
   "execution_count": 1,
   "metadata": {},
   "outputs": [],
   "source": [
    "import torch\n",
    "import torch.nn as nn\n",
    "import torch.optim as optim\n",
    "from torchvision import transforms, datasets"
   ]
  },
  {
   "cell_type": "markdown",
   "metadata": {},
   "source": [
    "### Loading and Preparing Dataset"
   ]
  },
  {
   "cell_type": "code",
   "execution_count": 2,
   "metadata": {},
   "outputs": [],
   "source": [
    "import torchvision\n",
    "import torchvision.transforms as transforms\n",
    "\n",
    "cinic_dir = 'D:/MDS/2023/4th Tri-3/DLF/Ass2/DS_10283_3192'\n",
    "traindir = cinic_dir + '/train'\n",
    "validatedir = cinic_dir + '/valid'\n",
    "testdir = cinic_dir + '/test'\n",
    "\n",
    "cinic_mean = [0.47889522, 0.47227842, 0.43047404]\n",
    "cinic_std = [0.24205776, 0.23828046, 0.25874835]\n",
    "normalize = transforms.Normalize(mean=cinic_mean, std=cinic_std)\n",
    "\n",
    "transform = transforms.Compose([\n",
    "    transforms.ToTensor(),\n",
    "    transforms.Normalize(mean=cinic_mean, std=cinic_std)\n",
    "])\n",
    "\n",
    "train_transform = transforms.Compose([\n",
    "    transforms.RandomCrop(32, padding=4),\n",
    "    transforms.RandomHorizontalFlip(),\n",
    "    transforms.ToTensor(),\n",
    "    transforms.Normalize(mean=cinic_mean, std=cinic_std)\n",
    "])\n",
    "\n",
    "trainset = datasets.ImageFolder(root=traindir, transform=train_transform)\n",
    "trainloader = torch.utils.data.DataLoader(trainset,\n",
    "                                          batch_size=64,\n",
    "                                          shuffle=True,\n",
    "                                          num_workers=2)\n",
    "\n",
    "validateset = datasets.ImageFolder(root=validatedir, transform=transform)\n",
    "validateloader = torch.utils.data.DataLoader(validateset,\n",
    "                                             batch_size=64,\n",
    "                                             shuffle=True,\n",
    "                                             num_workers=2)\n",
    "\n",
    "testset = datasets.ImageFolder(root=testdir, transform=transform)\n",
    "testloader = torch.utils.data.DataLoader(testset,\n",
    "                                         batch_size=64,\n",
    "                                         shuffle=True,\n",
    "                                         num_workers=2)\n",
    "\n",
    "classes = ('airplane', 'automobile', 'bird', 'cat',\n",
    "           'deer', 'dog', 'frog', 'horse', 'ship', 'truck')"
   ]
  },
  {
   "cell_type": "markdown",
   "metadata": {},
   "source": [
    "### Ensuring GPU is being used to train"
   ]
  },
  {
   "cell_type": "code",
   "execution_count": 3,
   "metadata": {},
   "outputs": [
    {
     "name": "stdout",
     "output_type": "stream",
     "text": [
      "cuda:0\n"
     ]
    }
   ],
   "source": [
    "device = torch.device(\"cuda:0\" if torch.cuda.is_available() else \"cpu\")\n",
    "print(device)"
   ]
  },
  {
   "cell_type": "markdown",
   "metadata": {},
   "source": [
    "### Printing some training images"
   ]
  },
  {
   "cell_type": "code",
   "execution_count": 4,
   "metadata": {},
   "outputs": [
    {
     "name": "stderr",
     "output_type": "stream",
     "text": [
      "Clipping input data to the valid range for imshow with RGB data ([0..1] for floats or [0..255] for integers).\n"
     ]
    },
    {
     "data": {
      "image/png": "[encoded data removed]",
      "text/plain": [
       "<Figure size 640x480 with 1 Axes>"
      ]
     },
     "metadata": {},
     "output_type": "display_data"
    },
    {
     "name": "stdout",
     "output_type": "stream",
     "text": [
      "airplane  frog airplane  deer\n"
     ]
    }
   ],
   "source": [
    "import matplotlib.pyplot as plt\n",
    "import numpy as np\n",
    "\n",
    "# functions to show an image\n",
    "def imshow(img):\n",
    "    img = img / 2 + 0.5     # unnormalize\n",
    "    npimg = img.numpy()\n",
    "    plt.imshow(np.transpose(npimg, (1, 2, 0)))\n",
    "    plt.show()\n",
    "\n",
    "# get some random training images\n",
    "dataiter = iter(trainloader)\n",
    "images, labels = next(dataiter)\n",
    "\n",
    "# select the first 4 images\n",
    "images = images[:4]\n",
    "labels = labels[:4]\n",
    "\n",
    "# show images\n",
    "imshow(torchvision.utils.make_grid(images))\n",
    "# print labels\n",
    "print(' '.join('%5s' % classes[labels[j]] for j in range(4)))"
   ]
  },
  {
   "cell_type": "markdown",
   "metadata": {},
   "source": [
    "### Defining the Convolutional Neural Network"
   ]
  },
  {
   "cell_type": "code",
   "execution_count": null,
   "metadata": {},
   "outputs": [],
   "source": [
    "import torch.nn as nn\n",
    "import torch.nn.functional as F\n",
    "\n",
    "\n",
    "class Net(nn.Module):\n",
    "    def __init__(self):\n",
    "        super(Net, self).__init__()\n",
    "        self.conv1 = nn.Conv2d(3, 32, 3)\n",
    "        self.conv2 = nn.Conv2d(32, 32, 3)\n",
    "        self.pool = nn.MaxPool2d(2, 2)\n",
    "        self.dropout1 = nn.Dropout2d(0.2)\n",
    "        self.conv3 = nn.Conv2d(32, 64, 3)\n",
    "        self.pool2 = nn.MaxPool2d(2, 2)\n",
    "        self.conv4 = nn.Conv2d(64, 128, 3)\n",
    "        self.conv5 = nn.Conv2d(128, 128, 3)\n",
    "        self.pool3 = nn.MaxPool2d(2, 2)\n",
    "        self.dropout2 = nn.Dropout2d(0.2)\n",
    "        self.fc1 = nn.Linear(128 * 4 * 4, 128)\n",
    "        self.fc2 = nn.Linear(128, 64)\n",
    "        self.fc3 = nn.Linear(64, 16)\n",
    "        self.dropout3 = nn.Dropout(0.2)\n",
    "        self.fc4 = nn.Linear(16, 10)\n",
    "\n",
    "    def forward(self, x):\n",
    "        x = F.relu(self.conv1(x))\n",
    "        x = F.relu(self.conv2(x))\n",
    "        x = self.pool(x)\n",
    "        x = self.dropout1(x)\n",
    "        x = F.relu(self.conv3(x))\n",
    "        x = self.pool2(x)\n",
    "        x = F.relu(self.conv4(x))\n",
    "        x = F.relu(self.conv5(x))\n",
    "        x = self.pool3(x)\n",
    "        x = self.dropout2(x)\n",
    "        x = x.view(-1, 128 * 4 * 4)\n",
    "        x = F.relu(self.fc1(x))\n",
    "        x = F.relu(self.fc2(x))\n",
    "        x = F.relu(self.fc3(x))\n",
    "        x = self.dropout3(x)\n",
    "        x = self.fc4(x)\n",
    "        return x\n",
    "\n",
    "\n",
    "net = Net()\n",
    "print(net)"
   ]
  },
  {
   "cell_type": "code",
   "execution_count": 5,
   "metadata": {},
   "outputs": [
    {
     "name": "stdout",
     "output_type": "stream",
     "text": [
      "Net(\n",
      "  (conv1): Conv2d(3, 6, kernel_size=(5, 5), stride=(1, 1))\n",
      "  (pool): MaxPool2d(kernel_size=2, stride=2, padding=0, dilation=1, ceil_mode=False)\n",
      "  (conv2): Conv2d(6, 16, kernel_size=(5, 5), stride=(1, 1))\n",
      "  (fc1): Linear(in_features=400, out_features=120, bias=True)\n",
      "  (fc2): Linear(in_features=120, out_features=84, bias=True)\n",
      "  (fc3): Linear(in_features=84, out_features=10, bias=True)\n",
      ")\n"
     ]
    }
   ],
   "source": [
    "# import torch.nn as nn\n",
    "# import torch.nn.functional as F\n",
    "\n",
    "\n",
    "# class Net(nn.Module):\n",
    "#     def __init__(self):\n",
    "#         super(Net, self).__init__()\n",
    "#         self.conv1 = nn.Conv2d(3, 6, 5)\n",
    "#         self.pool = nn.MaxPool2d(2, 2)\n",
    "#         self.conv2 = nn.Conv2d(6, 16, 5)\n",
    "#         self.fc1 = nn.Linear(16 * 5 * 5, 120)\n",
    "#         self.fc2 = nn.Linear(120, 84)\n",
    "#         self.fc3 = nn.Linear(84, 10)\n",
    "\n",
    "#     def forward(self, x):\n",
    "#         x = self.pool(F.relu(self.conv1(x)))\n",
    "#         x = self.pool(F.relu(self.conv2(x)))\n",
    "#         x = x.view(-1, 16 * 5 * 5)\n",
    "#         x = F.relu(self.fc1(x))\n",
    "#         x = F.relu(self.fc2(x))\n",
    "#         x = self.fc3(x)\n",
    "#         return x\n",
    "\n",
    "\n",
    "# net = Net()\n",
    "# print(net)\n"
   ]
  },
  {
   "cell_type": "code",
   "execution_count": 6,
   "metadata": {},
   "outputs": [],
   "source": [
    "#TODO CHECK THE ERROR OM TORCHVIEW"
   ]
  },
  {
   "cell_type": "markdown",
   "metadata": {},
   "source": [
    "### Visualizing the model"
   ]
  },
  {
   "cell_type": "code",
   "execution_count": 7,
   "metadata": {},
   "outputs": [
    {
     "name": "stderr",
     "output_type": "stream",
     "text": [
      "\n",
      "(dot.exe:6620): Pango-WARNING **: couldn't load font \"Linux libertine Not-Rotated 10\", falling back to \"Sans Not-Rotated 10\", expect ugly output.\n"
     ]
    },
    {
     "data": {
      "image/svg+xml": [
       "<?xml version=\"1.0\" encoding=\"UTF-8\" standalone=\"no\"?>\n",
       "<!DOCTYPE svg PUBLIC \"-//W3C//DTD SVG 1.1//EN\"\n",
       " \"http://www.w3.org/Graphics/SVG/1.1/DTD/svg11.dtd\">\n",
       "<!-- Generated by graphviz version 8.0.5 (20230430.1635)\n",
       " -->\n",
       "<!-- Title: model Pages: 1 -->\n",
       "<svg width=\"137pt\" height=\"864pt\"\n",
       " viewBox=\"0.00 0.00 137.01 864.00\" xmlns=\"http://www.w3.org/2000/svg\" xmlns:xlink=\"http://www.w3.org/1999/xlink\">\n",
       "<g id=\"graph0\" class=\"graph\" transform=\"scale(0.80597 0.80597) rotate(0) translate(4 1068)\">\n",
       "<title>model</title>\n",
       "<polygon fill=\"white\" stroke=\"none\" points=\"-4,4 -4,-1068 166,-1068 166,4 -4,4\"/>\n",
       "<!-- 0 -->\n",
       "<g id=\"node1\" class=\"node\">\n",
       "<title>0</title>\n",
       "<polygon fill=\"lightyellow\" stroke=\"none\" points=\"139.75,-1064 22.25,-1064 22.25,-1030 139.75,-1030 139.75,-1064\"/>\n",
       "<polygon fill=\"none\" stroke=\"black\" points=\"22.25,-1030 22.25,-1064 84,-1064 84,-1030 22.25,-1030\"/>\n",
       "<text text-anchor=\"start\" x=\"27.25\" y=\"-1049.5\" font-family=\"Linux libertine\" font-size=\"10.00\">input&#45;tensor</text>\n",
       "<text text-anchor=\"start\" x=\"36.62\" y=\"-1037.5\" font-family=\"Linux libertine\" font-size=\"10.00\">depth:0</text>\n",
       "<polygon fill=\"none\" stroke=\"black\" points=\"84,-1030 84,-1064 139.75,-1064 139.75,-1030 84,-1030\"/>\n",
       "<text text-anchor=\"start\" x=\"89\" y=\"-1043.5\" font-family=\"Linux libertine\" font-size=\"10.00\">(3, 32, 32)</text>\n",
       "</g>\n",
       "<!-- 1 -->\n",
       "<g id=\"node2\" class=\"node\">\n",
       "<title>1</title>\n",
       "<polygon fill=\"#c1ffc1\" stroke=\"none\" points=\"153,-994 9,-994 9,-950 153,-950 153,-994\"/>\n",
       "<polygon fill=\"none\" stroke=\"black\" points=\"9,-950 9,-994 52,-994 52,-950 9,-950\"/>\n",
       "<text text-anchor=\"start\" x=\"14.75\" y=\"-974.5\" font-family=\"Linux libertine\" font-size=\"10.00\">Conv2d</text>\n",
       "<text text-anchor=\"start\" x=\"14\" y=\"-962.5\" font-family=\"Linux libertine\" font-size=\"10.00\">depth:1</text>\n",
       "<polygon fill=\"none\" stroke=\"black\" points=\"52,-972 52,-994 95,-994 95,-972 52,-972\"/>\n",
       "<text text-anchor=\"start\" x=\"61.12\" y=\"-979.5\" font-family=\"Linux libertine\" font-size=\"10.00\">input:</text>\n",
       "<polygon fill=\"none\" stroke=\"black\" points=\"95,-972 95,-994 153,-994 153,-972 95,-972\"/>\n",
       "<text text-anchor=\"start\" x=\"99.62\" y=\"-979.5\" font-family=\"Linux libertine\" font-size=\"10.00\">(3, 32, 32) </text>\n",
       "<polygon fill=\"none\" stroke=\"black\" points=\"52,-950 52,-972 95,-972 95,-950 52,-950\"/>\n",
       "<text text-anchor=\"start\" x=\"56.62\" y=\"-957.5\" font-family=\"Linux libertine\" font-size=\"10.00\">output: </text>\n",
       "<polygon fill=\"none\" stroke=\"black\" points=\"95,-950 95,-972 153,-972 153,-950 95,-950\"/>\n",
       "<text text-anchor=\"start\" x=\"99.62\" y=\"-957.5\" font-family=\"Linux libertine\" font-size=\"10.00\">(6, 28, 28) </text>\n",
       "</g>\n",
       "<!-- 0&#45;&gt;1 -->\n",
       "<g id=\"edge1\" class=\"edge\">\n",
       "<title>0&#45;&gt;1</title>\n",
       "<path fill=\"none\" stroke=\"black\" d=\"M81,-1030.16C81,-1022.67 81,-1013.45 81,-1004.62\"/>\n",
       "<polygon fill=\"black\" stroke=\"black\" points=\"84.5,-1004.8 81,-994.8 77.5,-1004.8 84.5,-1004.8\"/>\n",
       "</g>\n",
       "<!-- 2 -->\n",
       "<g id=\"node3\" class=\"node\">\n",
       "<title>2</title>\n",
       "<polygon fill=\"aliceblue\" stroke=\"none\" points=\"153,-914 9,-914 9,-870 153,-870 153,-914\"/>\n",
       "<polygon fill=\"none\" stroke=\"black\" points=\"9,-870 9,-914 52,-914 52,-870 9,-870\"/>\n",
       "<text text-anchor=\"start\" x=\"22.25\" y=\"-894.5\" font-family=\"Linux libertine\" font-size=\"10.00\">relu</text>\n",
       "<text text-anchor=\"start\" x=\"14\" y=\"-882.5\" font-family=\"Linux libertine\" font-size=\"10.00\">depth:1</text>\n",
       "<polygon fill=\"none\" stroke=\"black\" points=\"52,-892 52,-914 95,-914 95,-892 52,-892\"/>\n",
       "<text text-anchor=\"start\" x=\"61.12\" y=\"-899.5\" font-family=\"Linux libertine\" font-size=\"10.00\">input:</text>\n",
       "<polygon fill=\"none\" stroke=\"black\" points=\"95,-892 95,-914 153,-914 153,-892 95,-892\"/>\n",
       "<text text-anchor=\"start\" x=\"99.62\" y=\"-899.5\" font-family=\"Linux libertine\" font-size=\"10.00\">(6, 28, 28) </text>\n",
       "<polygon fill=\"none\" stroke=\"black\" points=\"52,-870 52,-892 95,-892 95,-870 52,-870\"/>\n",
       "<text text-anchor=\"start\" x=\"56.62\" y=\"-877.5\" font-family=\"Linux libertine\" font-size=\"10.00\">output: </text>\n",
       "<polygon fill=\"none\" stroke=\"black\" points=\"95,-870 95,-892 153,-892 153,-870 95,-870\"/>\n",
       "<text text-anchor=\"start\" x=\"99.62\" y=\"-877.5\" font-family=\"Linux libertine\" font-size=\"10.00\">(6, 28, 28) </text>\n",
       "</g>\n",
       "<!-- 1&#45;&gt;2 -->\n",
       "<g id=\"edge2\" class=\"edge\">\n",
       "<title>1&#45;&gt;2</title>\n",
       "<path fill=\"none\" stroke=\"black\" d=\"M81,-950.1C81,-942.32 81,-933.3 81,-924.76\"/>\n",
       "<polygon fill=\"black\" stroke=\"black\" points=\"84.5,-924.96 81,-914.96 77.5,-924.96 84.5,-924.96\"/>\n",
       "</g>\n",
       "<!-- 3 -->\n",
       "<g id=\"node4\" class=\"node\">\n",
       "<title>3</title>\n",
       "<polygon fill=\"#c1ffc1\" stroke=\"none\" points=\"159,-834 3,-834 3,-790 159,-790 159,-834\"/>\n",
       "<polygon fill=\"none\" stroke=\"black\" points=\"3,-790 3,-834 58,-834 58,-790 3,-790\"/>\n",
       "<text text-anchor=\"start\" x=\"7.62\" y=\"-814.5\" font-family=\"Linux libertine\" font-size=\"10.00\">MaxPool2d</text>\n",
       "<text text-anchor=\"start\" x=\"14\" y=\"-802.5\" font-family=\"Linux libertine\" font-size=\"10.00\">depth:1</text>\n",
       "<polygon fill=\"none\" stroke=\"black\" points=\"58,-812 58,-834 101,-834 101,-812 58,-812\"/>\n",
       "<text text-anchor=\"start\" x=\"67.12\" y=\"-819.5\" font-family=\"Linux libertine\" font-size=\"10.00\">input:</text>\n",
       "<polygon fill=\"none\" stroke=\"black\" points=\"101,-812 101,-834 159,-834 159,-812 101,-812\"/>\n",
       "<text text-anchor=\"start\" x=\"105.62\" y=\"-819.5\" font-family=\"Linux libertine\" font-size=\"10.00\">(6, 28, 28) </text>\n",
       "<polygon fill=\"none\" stroke=\"black\" points=\"58,-790 58,-812 101,-812 101,-790 58,-790\"/>\n",
       "<text text-anchor=\"start\" x=\"62.62\" y=\"-797.5\" font-family=\"Linux libertine\" font-size=\"10.00\">output: </text>\n",
       "<polygon fill=\"none\" stroke=\"black\" points=\"101,-790 101,-812 159,-812 159,-790 101,-790\"/>\n",
       "<text text-anchor=\"start\" x=\"105.62\" y=\"-797.5\" font-family=\"Linux libertine\" font-size=\"10.00\">(6, 14, 14) </text>\n",
       "</g>\n",
       "<!-- 2&#45;&gt;3 -->\n",
       "<g id=\"edge3\" class=\"edge\">\n",
       "<title>2&#45;&gt;3</title>\n",
       "<path fill=\"none\" stroke=\"black\" d=\"M81,-870.1C81,-862.32 81,-853.3 81,-844.76\"/>\n",
       "<polygon fill=\"black\" stroke=\"black\" points=\"84.5,-844.96 81,-834.96 77.5,-844.96 84.5,-844.96\"/>\n",
       "</g>\n",
       "<!-- 4 -->\n",
       "<g id=\"node5\" class=\"node\">\n",
       "<title>4</title>\n",
       "<polygon fill=\"#c1ffc1\" stroke=\"none\" points=\"156,-754 6,-754 6,-710 156,-710 156,-754\"/>\n",
       "<polygon fill=\"none\" stroke=\"black\" points=\"6,-710 6,-754 49,-754 49,-710 6,-710\"/>\n",
       "<text text-anchor=\"start\" x=\"11.75\" y=\"-734.5\" font-family=\"Linux libertine\" font-size=\"10.00\">Conv2d</text>\n",
       "<text text-anchor=\"start\" x=\"11\" y=\"-722.5\" font-family=\"Linux libertine\" font-size=\"10.00\">depth:1</text>\n",
       "<polygon fill=\"none\" stroke=\"black\" points=\"49,-732 49,-754 92,-754 92,-732 49,-732\"/>\n",
       "<text text-anchor=\"start\" x=\"58.12\" y=\"-739.5\" font-family=\"Linux libertine\" font-size=\"10.00\">input:</text>\n",
       "<polygon fill=\"none\" stroke=\"black\" points=\"92,-732 92,-754 156,-754 156,-732 92,-732\"/>\n",
       "<text text-anchor=\"start\" x=\"99.62\" y=\"-739.5\" font-family=\"Linux libertine\" font-size=\"10.00\">(6, 14, 14) </text>\n",
       "<polygon fill=\"none\" stroke=\"black\" points=\"49,-710 49,-732 92,-732 92,-710 49,-710\"/>\n",
       "<text text-anchor=\"start\" x=\"53.62\" y=\"-717.5\" font-family=\"Linux libertine\" font-size=\"10.00\">output: </text>\n",
       "<polygon fill=\"none\" stroke=\"black\" points=\"92,-710 92,-732 156,-732 156,-710 92,-710\"/>\n",
       "<text text-anchor=\"start\" x=\"97\" y=\"-717.5\" font-family=\"Linux libertine\" font-size=\"10.00\">(16, 10, 10) </text>\n",
       "</g>\n",
       "<!-- 3&#45;&gt;4 -->\n",
       "<g id=\"edge4\" class=\"edge\">\n",
       "<title>3&#45;&gt;4</title>\n",
       "<path fill=\"none\" stroke=\"black\" d=\"M81,-790.1C81,-782.32 81,-773.3 81,-764.76\"/>\n",
       "<polygon fill=\"black\" stroke=\"black\" points=\"84.5,-764.96 81,-754.96 77.5,-764.96 84.5,-764.96\"/>\n",
       "</g>\n",
       "<!-- 5 -->\n",
       "<g id=\"node6\" class=\"node\">\n",
       "<title>5</title>\n",
       "<polygon fill=\"aliceblue\" stroke=\"none\" points=\"156,-674 6,-674 6,-630 156,-630 156,-674\"/>\n",
       "<polygon fill=\"none\" stroke=\"black\" points=\"6,-630 6,-674 49,-674 49,-630 6,-630\"/>\n",
       "<text text-anchor=\"start\" x=\"19.25\" y=\"-654.5\" font-family=\"Linux libertine\" font-size=\"10.00\">relu</text>\n",
       "<text text-anchor=\"start\" x=\"11\" y=\"-642.5\" font-family=\"Linux libertine\" font-size=\"10.00\">depth:1</text>\n",
       "<polygon fill=\"none\" stroke=\"black\" points=\"49,-652 49,-674 92,-674 92,-652 49,-652\"/>\n",
       "<text text-anchor=\"start\" x=\"58.12\" y=\"-659.5\" font-family=\"Linux libertine\" font-size=\"10.00\">input:</text>\n",
       "<polygon fill=\"none\" stroke=\"black\" points=\"92,-652 92,-674 156,-674 156,-652 92,-652\"/>\n",
       "<text text-anchor=\"start\" x=\"97\" y=\"-659.5\" font-family=\"Linux libertine\" font-size=\"10.00\">(16, 10, 10) </text>\n",
       "<polygon fill=\"none\" stroke=\"black\" points=\"49,-630 49,-652 92,-652 92,-630 49,-630\"/>\n",
       "<text text-anchor=\"start\" x=\"53.62\" y=\"-637.5\" font-family=\"Linux libertine\" font-size=\"10.00\">output: </text>\n",
       "<polygon fill=\"none\" stroke=\"black\" points=\"92,-630 92,-652 156,-652 156,-630 92,-630\"/>\n",
       "<text text-anchor=\"start\" x=\"97\" y=\"-637.5\" font-family=\"Linux libertine\" font-size=\"10.00\">(16, 10, 10) </text>\n",
       "</g>\n",
       "<!-- 4&#45;&gt;5 -->\n",
       "<g id=\"edge5\" class=\"edge\">\n",
       "<title>4&#45;&gt;5</title>\n",
       "<path fill=\"none\" stroke=\"black\" d=\"M81,-710.1C81,-702.32 81,-693.3 81,-684.76\"/>\n",
       "<polygon fill=\"black\" stroke=\"black\" points=\"84.5,-684.96 81,-674.96 77.5,-684.96 84.5,-684.96\"/>\n",
       "</g>\n",
       "<!-- 6 -->\n",
       "<g id=\"node7\" class=\"node\">\n",
       "<title>6</title>\n",
       "<polygon fill=\"#c1ffc1\" stroke=\"none\" points=\"162,-594 0,-594 0,-550 162,-550 162,-594\"/>\n",
       "<polygon fill=\"none\" stroke=\"black\" points=\"0,-550 0,-594 55,-594 55,-550 0,-550\"/>\n",
       "<text text-anchor=\"start\" x=\"4.62\" y=\"-574.5\" font-family=\"Linux libertine\" font-size=\"10.00\">MaxPool2d</text>\n",
       "<text text-anchor=\"start\" x=\"11\" y=\"-562.5\" font-family=\"Linux libertine\" font-size=\"10.00\">depth:1</text>\n",
       "<polygon fill=\"none\" stroke=\"black\" points=\"55,-572 55,-594 98,-594 98,-572 55,-572\"/>\n",
       "<text text-anchor=\"start\" x=\"64.12\" y=\"-579.5\" font-family=\"Linux libertine\" font-size=\"10.00\">input:</text>\n",
       "<polygon fill=\"none\" stroke=\"black\" points=\"98,-572 98,-594 162,-594 162,-572 98,-572\"/>\n",
       "<text text-anchor=\"start\" x=\"103\" y=\"-579.5\" font-family=\"Linux libertine\" font-size=\"10.00\">(16, 10, 10) </text>\n",
       "<polygon fill=\"none\" stroke=\"black\" points=\"55,-550 55,-572 98,-572 98,-550 55,-550\"/>\n",
       "<text text-anchor=\"start\" x=\"59.62\" y=\"-557.5\" font-family=\"Linux libertine\" font-size=\"10.00\">output: </text>\n",
       "<polygon fill=\"none\" stroke=\"black\" points=\"98,-550 98,-572 162,-572 162,-550 98,-550\"/>\n",
       "<text text-anchor=\"start\" x=\"108.25\" y=\"-557.5\" font-family=\"Linux libertine\" font-size=\"10.00\">(16, 5, 5) </text>\n",
       "</g>\n",
       "<!-- 5&#45;&gt;6 -->\n",
       "<g id=\"edge6\" class=\"edge\">\n",
       "<title>5&#45;&gt;6</title>\n",
       "<path fill=\"none\" stroke=\"black\" d=\"M81,-630.1C81,-622.32 81,-613.3 81,-604.76\"/>\n",
       "<polygon fill=\"black\" stroke=\"black\" points=\"84.5,-604.96 81,-594.96 77.5,-604.96 84.5,-604.96\"/>\n",
       "</g>\n",
       "<!-- 7 -->\n",
       "<g id=\"node8\" class=\"node\">\n",
       "<title>7</title>\n",
       "<polygon fill=\"aliceblue\" stroke=\"none\" points=\"150.5,-514 11.5,-514 11.5,-470 150.5,-470 150.5,-514\"/>\n",
       "<polygon fill=\"none\" stroke=\"black\" points=\"11.5,-470 11.5,-514 54.5,-514 54.5,-470 11.5,-470\"/>\n",
       "<text text-anchor=\"start\" x=\"23.25\" y=\"-494.5\" font-family=\"Linux libertine\" font-size=\"10.00\">view</text>\n",
       "<text text-anchor=\"start\" x=\"16.5\" y=\"-482.5\" font-family=\"Linux libertine\" font-size=\"10.00\">depth:1</text>\n",
       "<polygon fill=\"none\" stroke=\"black\" points=\"54.5,-492 54.5,-514 97.5,-514 97.5,-492 54.5,-492\"/>\n",
       "<text text-anchor=\"start\" x=\"63.62\" y=\"-499.5\" font-family=\"Linux libertine\" font-size=\"10.00\">input:</text>\n",
       "<polygon fill=\"none\" stroke=\"black\" points=\"97.5,-492 97.5,-514 150.5,-514 150.5,-492 97.5,-492\"/>\n",
       "<text text-anchor=\"start\" x=\"102.25\" y=\"-499.5\" font-family=\"Linux libertine\" font-size=\"10.00\">(16, 5, 5) </text>\n",
       "<polygon fill=\"none\" stroke=\"black\" points=\"54.5,-470 54.5,-492 97.5,-492 97.5,-470 54.5,-470\"/>\n",
       "<text text-anchor=\"start\" x=\"59.12\" y=\"-477.5\" font-family=\"Linux libertine\" font-size=\"10.00\">output: </text>\n",
       "<polygon fill=\"none\" stroke=\"black\" points=\"97.5,-470 97.5,-492 150.5,-492 150.5,-470 97.5,-470\"/>\n",
       "<text text-anchor=\"start\" x=\"105.25\" y=\"-477.5\" font-family=\"Linux libertine\" font-size=\"10.00\">(1, 400) </text>\n",
       "</g>\n",
       "<!-- 6&#45;&gt;7 -->\n",
       "<g id=\"edge7\" class=\"edge\">\n",
       "<title>6&#45;&gt;7</title>\n",
       "<path fill=\"none\" stroke=\"black\" d=\"M81,-550.1C81,-542.32 81,-533.3 81,-524.76\"/>\n",
       "<polygon fill=\"black\" stroke=\"black\" points=\"84.5,-524.96 81,-514.96 77.5,-524.96 84.5,-524.96\"/>\n",
       "</g>\n",
       "<!-- 8 -->\n",
       "<g id=\"node9\" class=\"node\">\n",
       "<title>8</title>\n",
       "<polygon fill=\"#c1ffc1\" stroke=\"none\" points=\"147.5,-434 14.5,-434 14.5,-390 147.5,-390 147.5,-434\"/>\n",
       "<polygon fill=\"none\" stroke=\"black\" points=\"14.5,-390 14.5,-434 57.5,-434 57.5,-390 14.5,-390\"/>\n",
       "<text text-anchor=\"start\" x=\"22.88\" y=\"-414.5\" font-family=\"Linux libertine\" font-size=\"10.00\">Linear</text>\n",
       "<text text-anchor=\"start\" x=\"19.5\" y=\"-402.5\" font-family=\"Linux libertine\" font-size=\"10.00\">depth:1</text>\n",
       "<polygon fill=\"none\" stroke=\"black\" points=\"57.5,-412 57.5,-434 100.5,-434 100.5,-412 57.5,-412\"/>\n",
       "<text text-anchor=\"start\" x=\"66.62\" y=\"-419.5\" font-family=\"Linux libertine\" font-size=\"10.00\">input:</text>\n",
       "<polygon fill=\"none\" stroke=\"black\" points=\"100.5,-412 100.5,-434 147.5,-434 147.5,-412 100.5,-412\"/>\n",
       "<text text-anchor=\"start\" x=\"105.25\" y=\"-419.5\" font-family=\"Linux libertine\" font-size=\"10.00\">(1, 400) </text>\n",
       "<polygon fill=\"none\" stroke=\"black\" points=\"57.5,-390 57.5,-412 100.5,-412 100.5,-390 57.5,-390\"/>\n",
       "<text text-anchor=\"start\" x=\"62.12\" y=\"-397.5\" font-family=\"Linux libertine\" font-size=\"10.00\">output: </text>\n",
       "<polygon fill=\"none\" stroke=\"black\" points=\"100.5,-390 100.5,-412 147.5,-412 147.5,-390 100.5,-390\"/>\n",
       "<text text-anchor=\"start\" x=\"105.25\" y=\"-397.5\" font-family=\"Linux libertine\" font-size=\"10.00\">(1, 120) </text>\n",
       "</g>\n",
       "<!-- 7&#45;&gt;8 -->\n",
       "<g id=\"edge8\" class=\"edge\">\n",
       "<title>7&#45;&gt;8</title>\n",
       "<path fill=\"none\" stroke=\"black\" d=\"M81,-470.1C81,-462.32 81,-453.3 81,-444.76\"/>\n",
       "<polygon fill=\"black\" stroke=\"black\" points=\"84.5,-444.96 81,-434.96 77.5,-444.96 84.5,-444.96\"/>\n",
       "</g>\n",
       "<!-- 9 -->\n",
       "<g id=\"node10\" class=\"node\">\n",
       "<title>9</title>\n",
       "<polygon fill=\"aliceblue\" stroke=\"none\" points=\"147.5,-354 14.5,-354 14.5,-310 147.5,-310 147.5,-354\"/>\n",
       "<polygon fill=\"none\" stroke=\"black\" points=\"14.5,-310 14.5,-354 57.5,-354 57.5,-310 14.5,-310\"/>\n",
       "<text text-anchor=\"start\" x=\"27.75\" y=\"-334.5\" font-family=\"Linux libertine\" font-size=\"10.00\">relu</text>\n",
       "<text text-anchor=\"start\" x=\"19.5\" y=\"-322.5\" font-family=\"Linux libertine\" font-size=\"10.00\">depth:1</text>\n",
       "<polygon fill=\"none\" stroke=\"black\" points=\"57.5,-332 57.5,-354 100.5,-354 100.5,-332 57.5,-332\"/>\n",
       "<text text-anchor=\"start\" x=\"66.62\" y=\"-339.5\" font-family=\"Linux libertine\" font-size=\"10.00\">input:</text>\n",
       "<polygon fill=\"none\" stroke=\"black\" points=\"100.5,-332 100.5,-354 147.5,-354 147.5,-332 100.5,-332\"/>\n",
       "<text text-anchor=\"start\" x=\"105.25\" y=\"-339.5\" font-family=\"Linux libertine\" font-size=\"10.00\">(1, 120) </text>\n",
       "<polygon fill=\"none\" stroke=\"black\" points=\"57.5,-310 57.5,-332 100.5,-332 100.5,-310 57.5,-310\"/>\n",
       "<text text-anchor=\"start\" x=\"62.12\" y=\"-317.5\" font-family=\"Linux libertine\" font-size=\"10.00\">output: </text>\n",
       "<polygon fill=\"none\" stroke=\"black\" points=\"100.5,-310 100.5,-332 147.5,-332 147.5,-310 100.5,-310\"/>\n",
       "<text text-anchor=\"start\" x=\"105.25\" y=\"-317.5\" font-family=\"Linux libertine\" font-size=\"10.00\">(1, 120) </text>\n",
       "</g>\n",
       "<!-- 8&#45;&gt;9 -->\n",
       "<g id=\"edge9\" class=\"edge\">\n",
       "<title>8&#45;&gt;9</title>\n",
       "<path fill=\"none\" stroke=\"black\" d=\"M81,-390.1C81,-382.32 81,-373.3 81,-364.76\"/>\n",
       "<polygon fill=\"black\" stroke=\"black\" points=\"84.5,-364.96 81,-354.96 77.5,-364.96 84.5,-364.96\"/>\n",
       "</g>\n",
       "<!-- 10 -->\n",
       "<g id=\"node11\" class=\"node\">\n",
       "<title>10</title>\n",
       "<polygon fill=\"#c1ffc1\" stroke=\"none\" points=\"147.5,-274 14.5,-274 14.5,-230 147.5,-230 147.5,-274\"/>\n",
       "<polygon fill=\"none\" stroke=\"black\" points=\"14.5,-230 14.5,-274 57.5,-274 57.5,-230 14.5,-230\"/>\n",
       "<text text-anchor=\"start\" x=\"22.88\" y=\"-254.5\" font-family=\"Linux libertine\" font-size=\"10.00\">Linear</text>\n",
       "<text text-anchor=\"start\" x=\"19.5\" y=\"-242.5\" font-family=\"Linux libertine\" font-size=\"10.00\">depth:1</text>\n",
       "<polygon fill=\"none\" stroke=\"black\" points=\"57.5,-252 57.5,-274 100.5,-274 100.5,-252 57.5,-252\"/>\n",
       "<text text-anchor=\"start\" x=\"66.62\" y=\"-259.5\" font-family=\"Linux libertine\" font-size=\"10.00\">input:</text>\n",
       "<polygon fill=\"none\" stroke=\"black\" points=\"100.5,-252 100.5,-274 147.5,-274 147.5,-252 100.5,-252\"/>\n",
       "<text text-anchor=\"start\" x=\"105.25\" y=\"-259.5\" font-family=\"Linux libertine\" font-size=\"10.00\">(1, 120) </text>\n",
       "<polygon fill=\"none\" stroke=\"black\" points=\"57.5,-230 57.5,-252 100.5,-252 100.5,-230 57.5,-230\"/>\n",
       "<text text-anchor=\"start\" x=\"62.12\" y=\"-237.5\" font-family=\"Linux libertine\" font-size=\"10.00\">output: </text>\n",
       "<polygon fill=\"none\" stroke=\"black\" points=\"100.5,-230 100.5,-252 147.5,-252 147.5,-230 100.5,-230\"/>\n",
       "<text text-anchor=\"start\" x=\"107.88\" y=\"-237.5\" font-family=\"Linux libertine\" font-size=\"10.00\">(1, 84) </text>\n",
       "</g>\n",
       "<!-- 9&#45;&gt;10 -->\n",
       "<g id=\"edge10\" class=\"edge\">\n",
       "<title>9&#45;&gt;10</title>\n",
       "<path fill=\"none\" stroke=\"black\" d=\"M81,-310.1C81,-302.32 81,-293.3 81,-284.76\"/>\n",
       "<polygon fill=\"black\" stroke=\"black\" points=\"84.5,-284.96 81,-274.96 77.5,-284.96 84.5,-284.96\"/>\n",
       "</g>\n",
       "<!-- 11 -->\n",
       "<g id=\"node12\" class=\"node\">\n",
       "<title>11</title>\n",
       "<polygon fill=\"aliceblue\" stroke=\"none\" points=\"145,-194 17,-194 17,-150 145,-150 145,-194\"/>\n",
       "<polygon fill=\"none\" stroke=\"black\" points=\"17,-150 17,-194 60,-194 60,-150 17,-150\"/>\n",
       "<text text-anchor=\"start\" x=\"30.25\" y=\"-174.5\" font-family=\"Linux libertine\" font-size=\"10.00\">relu</text>\n",
       "<text text-anchor=\"start\" x=\"22\" y=\"-162.5\" font-family=\"Linux libertine\" font-size=\"10.00\">depth:1</text>\n",
       "<polygon fill=\"none\" stroke=\"black\" points=\"60,-172 60,-194 103,-194 103,-172 60,-172\"/>\n",
       "<text text-anchor=\"start\" x=\"69.12\" y=\"-179.5\" font-family=\"Linux libertine\" font-size=\"10.00\">input:</text>\n",
       "<polygon fill=\"none\" stroke=\"black\" points=\"103,-172 103,-194 145,-194 145,-172 103,-172\"/>\n",
       "<text text-anchor=\"start\" x=\"107.88\" y=\"-179.5\" font-family=\"Linux libertine\" font-size=\"10.00\">(1, 84) </text>\n",
       "<polygon fill=\"none\" stroke=\"black\" points=\"60,-150 60,-172 103,-172 103,-150 60,-150\"/>\n",
       "<text text-anchor=\"start\" x=\"64.62\" y=\"-157.5\" font-family=\"Linux libertine\" font-size=\"10.00\">output: </text>\n",
       "<polygon fill=\"none\" stroke=\"black\" points=\"103,-150 103,-172 145,-172 145,-150 103,-150\"/>\n",
       "<text text-anchor=\"start\" x=\"107.88\" y=\"-157.5\" font-family=\"Linux libertine\" font-size=\"10.00\">(1, 84) </text>\n",
       "</g>\n",
       "<!-- 10&#45;&gt;11 -->\n",
       "<g id=\"edge11\" class=\"edge\">\n",
       "<title>10&#45;&gt;11</title>\n",
       "<path fill=\"none\" stroke=\"black\" d=\"M81,-230.1C81,-222.32 81,-213.3 81,-204.76\"/>\n",
       "<polygon fill=\"black\" stroke=\"black\" points=\"84.5,-204.96 81,-194.96 77.5,-204.96 84.5,-204.96\"/>\n",
       "</g>\n",
       "<!-- 12 -->\n",
       "<g id=\"node13\" class=\"node\">\n",
       "<title>12</title>\n",
       "<polygon fill=\"#c1ffc1\" stroke=\"none\" points=\"145,-114 17,-114 17,-70 145,-70 145,-114\"/>\n",
       "<polygon fill=\"none\" stroke=\"black\" points=\"17,-70 17,-114 60,-114 60,-70 17,-70\"/>\n",
       "<text text-anchor=\"start\" x=\"25.38\" y=\"-94.5\" font-family=\"Linux libertine\" font-size=\"10.00\">Linear</text>\n",
       "<text text-anchor=\"start\" x=\"22\" y=\"-82.5\" font-family=\"Linux libertine\" font-size=\"10.00\">depth:1</text>\n",
       "<polygon fill=\"none\" stroke=\"black\" points=\"60,-92 60,-114 103,-114 103,-92 60,-92\"/>\n",
       "<text text-anchor=\"start\" x=\"69.12\" y=\"-99.5\" font-family=\"Linux libertine\" font-size=\"10.00\">input:</text>\n",
       "<polygon fill=\"none\" stroke=\"black\" points=\"103,-92 103,-114 145,-114 145,-92 103,-92\"/>\n",
       "<text text-anchor=\"start\" x=\"107.88\" y=\"-99.5\" font-family=\"Linux libertine\" font-size=\"10.00\">(1, 84) </text>\n",
       "<polygon fill=\"none\" stroke=\"black\" points=\"60,-70 60,-92 103,-92 103,-70 60,-70\"/>\n",
       "<text text-anchor=\"start\" x=\"64.62\" y=\"-77.5\" font-family=\"Linux libertine\" font-size=\"10.00\">output: </text>\n",
       "<polygon fill=\"none\" stroke=\"black\" points=\"103,-70 103,-92 145,-92 145,-70 103,-70\"/>\n",
       "<text text-anchor=\"start\" x=\"107.88\" y=\"-77.5\" font-family=\"Linux libertine\" font-size=\"10.00\">(1, 10) </text>\n",
       "</g>\n",
       "<!-- 11&#45;&gt;12 -->\n",
       "<g id=\"edge12\" class=\"edge\">\n",
       "<title>11&#45;&gt;12</title>\n",
       "<path fill=\"none\" stroke=\"black\" d=\"M81,-150.1C81,-142.32 81,-133.3 81,-124.76\"/>\n",
       "<polygon fill=\"black\" stroke=\"black\" points=\"84.5,-124.96 81,-114.96 77.5,-124.96 84.5,-124.96\"/>\n",
       "</g>\n",
       "<!-- 13 -->\n",
       "<g id=\"node14\" class=\"node\">\n",
       "<title>13</title>\n",
       "<polygon fill=\"lightyellow\" stroke=\"none\" points=\"134.5,-34 27.5,-34 27.5,0 134.5,0 134.5,-34\"/>\n",
       "<polygon fill=\"none\" stroke=\"black\" points=\"27.5,0 27.5,-34 95.25,-34 95.25,0 27.5,0\"/>\n",
       "<text text-anchor=\"start\" x=\"32.5\" y=\"-19.5\" font-family=\"Linux libertine\" font-size=\"10.00\">output&#45;tensor</text>\n",
       "<text text-anchor=\"start\" x=\"44.88\" y=\"-7.5\" font-family=\"Linux libertine\" font-size=\"10.00\">depth:0</text>\n",
       "<polygon fill=\"none\" stroke=\"black\" points=\"95.25,0 95.25,-34 134.5,-34 134.5,0 95.25,0\"/>\n",
       "<text text-anchor=\"start\" x=\"100.25\" y=\"-13.5\" font-family=\"Linux libertine\" font-size=\"10.00\">(1, 10)</text>\n",
       "</g>\n",
       "<!-- 12&#45;&gt;13 -->\n",
       "<g id=\"edge13\" class=\"edge\">\n",
       "<title>12&#45;&gt;13</title>\n",
       "<path fill=\"none\" stroke=\"black\" d=\"M81,-70.28C81,-62.28 81,-53.03 81,-44.55\"/>\n",
       "<polygon fill=\"black\" stroke=\"black\" points=\"84.5,-44.67 81,-34.67 77.5,-44.67 84.5,-44.67\"/>\n",
       "</g>\n",
       "</g>\n",
       "</svg>\n"
      ],
      "text/plain": [
       "<graphviz.graphs.Digraph at 0x16bbaf1dc70>"
      ]
     },
     "execution_count": 7,
     "metadata": {},
     "output_type": "execute_result"
    }
   ],
   "source": [
    "#https://torchview.dev/\n",
    "#https://github.com/mert-kurttutan/torchview\n",
    "from torchview import draw_graph\n",
    "model_graph = draw_graph(net, input_size=(3,32,32), expand_nested=True)\n",
    "model_graph.visual_graph"
   ]
  },
  {
   "cell_type": "code",
   "execution_count": 8,
   "metadata": {},
   "outputs": [],
   "source": [
    "#https://appsilon.com/visualize-pytorch-neural-networks/\n",
    "#TODO Visulaize\n",
    "# from torchviz import make_dot\n",
    "\n",
    "# model = Net()\n",
    "# y = model(X)"
   ]
  },
  {
   "cell_type": "code",
   "execution_count": 9,
   "metadata": {},
   "outputs": [],
   "source": [
    "# from torchviz import make_dot\n",
    "# #https://stackoverflow.com/questions/52468956/how-do-i-visualize-a-net-in-pytorch\n",
    "\n",
    "# #Backward pass apparently,\n",
    "# # TODO check on this later\n",
    "# batch = next(iter(dataloader_train))\n",
    "# yhat = model(batch.text) # Give dummy batch to forward().\n",
    "\n",
    "# make_dot(yhat, params=dict(list(model.named_parameters()))).render(\"cnn_torchviz\", format=\"png\")\n",
    "\n"
   ]
  },
  {
   "cell_type": "code",
   "execution_count": 10,
   "metadata": {},
   "outputs": [],
   "source": [
    "# import hiddenlayer as hl\n",
    "# #https://stackoverflow.com/questions/52468956/how-do-i-visualize-a-net-in-pytorch\n",
    "\n",
    "# #Forward pass apparently,\n",
    "# # TODO check on this later\n",
    "# transforms = [ hl.transforms.Prune('Constant') ] # Removes Constant nodes from graph.\n",
    "\n",
    "# graph = hl.build_graph(model, batch.text, transforms=transforms)\n",
    "# graph.theme = hl.graph.THEMES['blue'].copy()\n",
    "# graph.save('rnn_hiddenlayer', format='png')"
   ]
  },
  {
   "cell_type": "code",
   "execution_count": 11,
   "metadata": {},
   "outputs": [],
   "source": [
    "# from torchview import draw_graph\n",
    "# # x = torch.randn(1, 3, 32, 32)\n",
    "# # y = model(x)\n",
    "\n",
    "# model_graph = draw_graph(net(), input_size=(3,32,32), expand_nested=True)\n",
    "# model_graph.visual_graph"
   ]
  },
  {
   "cell_type": "code",
   "execution_count": 12,
   "metadata": {},
   "outputs": [],
   "source": [
    "# import torch\n",
    "# x = torch.randn(1, 3, 32, 32)\n",
    "# y = model(x)\n",
    "# make_dot(y, params=dict(model.named_parameters()))"
   ]
  },
  {
   "cell_type": "markdown",
   "metadata": {},
   "source": [
    "### Defining a Loss function and optimizer"
   ]
  },
  {
   "cell_type": "code",
   "execution_count": 13,
   "metadata": {},
   "outputs": [
    {
     "name": "stdout",
     "output_type": "stream",
     "text": [
      "cuda:0\n"
     ]
    }
   ],
   "source": [
    "import torch.optim as optim\n",
    "\n",
    "criterion = nn.CrossEntropyLoss()\n",
    "optimizer = optim.SGD(net.parameters(), lr=0.01, momentum=0.9, weight_decay=0.001)\n",
    "# torch.cuda.empty_cache()\n",
    "device = torch.device(\"cuda:0\" if torch.cuda.is_available() else \"cpu\")\n",
    "net.to(device)\n",
    "# inputs = inputs.to(device)\n",
    "# outputs = net(inputs)\n",
    "print(device)"
   ]
  },
  {
   "cell_type": "markdown",
   "metadata": {},
   "source": [
    "### Training the model"
   ]
  },
  {
   "cell_type": "code",
   "execution_count": 14,
   "metadata": {},
   "outputs": [
    {
     "name": "stdout",
     "output_type": "stream",
     "text": [
      "[1,   100] loss: 0.115\n",
      "[1,   200] loss: 0.115\n",
      "[1,   300] loss: 0.115\n",
      "[1,   400] loss: 0.115\n",
      "[1,   500] loss: 0.115\n",
      "[1,   600] loss: 0.115\n",
      "[1,   700] loss: 0.114\n",
      "[1,   800] loss: 0.114\n",
      "[1,   900] loss: 0.112\n",
      "[1,  1000] loss: 0.110\n",
      "[1,  1100] loss: 0.107\n",
      "[1,  1200] loss: 0.105\n",
      "[1,  1300] loss: 0.103\n",
      "[1,  1400] loss: 0.103\n",
      "[2,   100] loss: 0.102\n",
      "[2,   200] loss: 0.101\n",
      "[2,   300] loss: 0.100\n",
      "[2,   400] loss: 0.099\n",
      "[2,   500] loss: 0.098\n",
      "[2,   600] loss: 0.098\n",
      "[2,   700] loss: 0.097\n",
      "[2,   800] loss: 0.097\n",
      "[2,   900] loss: 0.096\n",
      "[2,  1000] loss: 0.095\n",
      "[2,  1100] loss: 0.096\n",
      "[2,  1200] loss: 0.095\n",
      "[2,  1300] loss: 0.094\n",
      "[2,  1400] loss: 0.093\n",
      "Finished Training\n"
     ]
    }
   ],
   "source": [
    "epoch_num = 200\n",
    "\n",
    "def train_model_one_epoch(model, trainloader, optimizer, device):\n",
    "    model.train()\n",
    "    \n",
    "    result = {'loss': [],\n",
    "             'accuracy': [],\n",
    "             'recall': [],\n",
    "             'precision': []}\n",
    "    for i, data in enumerate(trainloader):\n",
    "        inputs, labels = data\n",
    "        inputs, labels = inputs.to(device), labels.to(device)\n",
    "\n",
    "        # zero the parameter gradients\n",
    "        optimizer.zero_grad()\n",
    "\n",
    "        # forward + backward + optimize\n",
    "        outputs = net(inputs)\n",
    "        \n",
    "        closs, accuracy, recall, precision = eval_perform(outputs, label)\n",
    "        result['loss'].append(closs)\n",
    "        result['accuracy'].append(accuracy)\n",
    "        result['recall'].append(recall)\n",
    "        result['precision'].append(precision)\n",
    "        \n",
    "\n",
    "        # loss = criterion(outputs, labels)\n",
    "        closs.backward()\n",
    "        optimizer.step()\n",
    "        \n",
    "        \n",
    "    return result \n",
    "\n",
    "def valid_model(model, validloader, device):\n",
    "    result = {'loss': [],\n",
    "             'accuracy': [],\n",
    "             'recall': [],\n",
    "             'precision': []}\n",
    "    model.eval()\n",
    "    for i, data in enumerate(validloader):\n",
    "        inputs, labels = data\n",
    "        inputs, labels = inputs.to(device), labels.to(device)\n",
    "        outputs = net(inputs)\n",
    "        \n",
    "        closs, accuracy, recall, precision = eval_perform(outputs, label)\n",
    "        result['loss'].append(loss)\n",
    "        result['accuracy'].append(accuracy)\n",
    "        result['recall'].append(recall)\n",
    "        result['precision'].append(precision)\n",
    "        \n",
    "    return result\n",
    "\n",
    "\n",
    "def train_model(model, trainloader, validloader, optimizer, num_epochs, device):\n",
    "    train_perform = []\n",
    "    valid_perform = []\n",
    "    best_valid_perform = None\n",
    "    for epoch in range(num_epochs):\n",
    "        ctrain_perform = train_model_one_epoch(model, trainloader, optimizer, device)\n",
    "        train_perform.append(ctrain_perform)\n",
    "        cvalid_perform = valid_model(model, validloader, device)\n",
    "        if cmp_perform(best_valid_perform, cvalid_perform):\n",
    "            assign_perform(best_valid_perform, cvalid_perform)\n",
    "            torch.save('best_valid.pt', model.state_dict())\n",
    "        valid_perform.append(cvalid_perform)\n",
    "        \n",
    "    return train_perform, valid_perform\n",
    "\n",
    "\n",
    "        \n",
    "        \n",
    "for epoch in range(epoch_num):  # loop over the dataset multiple times\n",
    "    running_loss = 0.0\n",
    "    for i, data in enumerate(trainloader, 0):\n",
    "        # get the inputs; data is a list of [inputs, labels]\n",
    "        inputs, labels = data\n",
    "        inputs, labels = inputs.to(device), labels.to(device)\n",
    "\n",
    "        # zero the parameter gradients\n",
    "        optimizer.zero_grad()\n",
    "\n",
    "        # forward + backward + optimize\n",
    "        outputs = net(inputs)\n",
    "        loss = criterion(outputs, labels)\n",
    "        loss.backward()\n",
    "        optimizer.step()\n",
    "\n",
    "        # print statistics\n",
    "        running_loss += loss.item()\n",
    "        if i % 100 == 99:    # print every 2000 mini-batches\n",
    "            print('[%d, %5d] loss: %.3f' %\n",
    "                  (epoch + 1, i + 1, running_loss / 2000))\n",
    "            running_loss = 0.0\n",
    "\n",
    "print('Finished Training')"
   ]
  },
  {
   "cell_type": "markdown",
   "metadata": {},
   "source": [
    "### Saving our model"
   ]
  },
  {
   "cell_type": "code",
   "execution_count": 15,
   "metadata": {},
   "outputs": [],
   "source": [
    "PATH = './cinic_net.pth'\n",
    "torch.save(net.state_dict(), PATH)"
   ]
  },
  {
   "cell_type": "markdown",
   "metadata": {},
   "source": [
    "### Testing the model"
   ]
  },
  {
   "cell_type": "code",
   "execution_count": 16,
   "metadata": {},
   "outputs": [
    {
     "name": "stderr",
     "output_type": "stream",
     "text": [
      "Clipping input data to the valid range for imshow with RGB data ([0..1] for floats or [0..255] for integers).\n"
     ]
    },
    {
     "data": {
      "image/png": "[encoded data removed]",
      "text/plain": [
       "<Figure size 640x480 with 1 Axes>"
      ]
     },
     "metadata": {},
     "output_type": "display_data"
    },
    {
     "name": "stdout",
     "output_type": "stream",
     "text": [
      "GroundTruth:    dog airplane   dog automobile\n"
     ]
    }
   ],
   "source": [
    "dataiter = iter(testloader)\n",
    "images, labels = next(dataiter)\n",
    "# select the first 4 images\n",
    "images = images[:4]\n",
    "labels = labels[:4]\n",
    "\n",
    "# print images\n",
    "imshow(torchvision.utils.make_grid(images))\n",
    "print('GroundTruth: ', ' '.join('%5s' % classes[labels[j]] for j in range(4)))"
   ]
  },
  {
   "cell_type": "code",
   "execution_count": 17,
   "metadata": {},
   "outputs": [
    {
     "name": "stdout",
     "output_type": "stream",
     "text": [
      "Predicted:  truck horse horse airplane\n"
     ]
    }
   ],
   "source": [
    "net = Net()\n",
    "net.load_state_dict(torch.load(PATH))\n",
    "outputs = net(images)\n",
    "_, predicted = torch.max(outputs, 1)\n",
    "\n",
    "print('Predicted: ', ' '.join('%5s' % classes[predicted[j]]\n",
    "                              for j in range(4)))"
   ]
  },
  {
   "cell_type": "markdown",
   "metadata": {},
   "source": [
    "Testing it on the whole dataset"
   ]
  },
  {
   "cell_type": "code",
   "execution_count": 18,
   "metadata": {},
   "outputs": [
    {
     "name": "stdout",
     "output_type": "stream",
     "text": [
      "Accuracy of the network on the 10000 test images: 31 %\n",
      "Accuracy of airplane : 72 %\n",
      "Accuracy of automobile : 48 %\n",
      "Accuracy of  bird :  6 %\n",
      "Accuracy of   cat :  9 %\n",
      "Accuracy of  deer :  2 %\n",
      "Accuracy of   dog : 21 %\n",
      "Accuracy of  frog : 50 %\n",
      "Accuracy of horse : 54 %\n",
      "Accuracy of  ship : 10 %\n",
      "Accuracy of truck : 36 %\n"
     ]
    }
   ],
   "source": [
    "correct = 0\n",
    "total = 0\n",
    "with torch.no_grad():\n",
    "    for data in testloader:\n",
    "        images, labels = data\n",
    "        outputs = net(images)\n",
    "        _, predicted = torch.max(outputs.data, 1)\n",
    "        total += labels.size(0)\n",
    "        correct += (predicted == labels).sum().item()\n",
    "\n",
    "print('Accuracy of the network on the test images: %d %%' % (\n",
    "    100 * correct / total))\n",
    "class_correct = list(0. for i in range(10))\n",
    "class_total = list(0. for i in range(10))\n",
    "with torch.no_grad():\n",
    "    for data in testloader:\n",
    "        images, labels = data\n",
    "        outputs = net(images)\n",
    "        _, predicted = torch.max(outputs, 1)\n",
    "        c = (predicted == labels).squeeze()\n",
    "        for i in range(4):\n",
    "            label = labels[i]\n",
    "            class_correct[label] += c[i].item()\n",
    "            class_total[label] += 1\n",
    "\n",
    "for i in range(10):\n",
    "    print('Accuracy of %5s : %2d %%' % (\n",
    "        classes[i], 100 * class_correct[i] / class_total[i]))"
   ]
  }
 ],
 "metadata": {
  "kernelspec": {
   "display_name": "TorchEnv",
   "language": "python",
   "name": "python3"
  },
  "language_info": {
   "codemirror_mode": {
    "name": "ipython",
    "version": 3
   },
   "file_extension": ".py",
   "mimetype": "text/x-python",
   "name": "python",
   "nbconvert_exporter": "python",
   "pygments_lexer": "ipython3",
   "version": "3.9.13"
  }
 },
 "nbformat": 4,
 "nbformat_minor": 2
}
